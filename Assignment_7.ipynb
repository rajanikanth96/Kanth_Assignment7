{
 "cells": [
  {
   "cell_type": "code",
   "execution_count": 17,
   "metadata": {},
   "outputs": [
    {
     "name": "stdout",
     "output_type": "stream",
     "text": [
      "The list is :  [10, 20, 30, 40, 50, 60, 70, 80, 90, 100]\n",
      "The moving average for the list is : [25. 35. 45. 55. 65. 75. 85.]\n"
     ]
    }
   ],
   "source": [
    "#Given a sequence of n values x1, x2, ..., xn and a window size k>0, the k-th moving\n",
    "#average of the given sequence is defined as follows:\n",
    "#The moving average sequence has n-k+1 elements as shown below.\n",
    "#The moving averages with k=4 of a ten-value sequence (n=10) is shown below\n",
    "import numpy as np\n",
    "\n",
    "list1 = [10*x for x in range(1, 11)]\n",
    "print(\"The list is : \" ,list1)\n",
    "\n",
    "def movingAvg(values, window):\n",
    "    sum1 = np.repeat(1, window)/window\n",
    "    avg = np.convolve(values, sum1,'valid')\n",
    "    return avg\n",
    "\n",
    "print(\"The moving average for the list is :\", movingAvg(list1,4))"
   ]
  },
  {
   "cell_type": "code",
   "execution_count": 18,
   "metadata": {},
   "outputs": [
    {
     "name": "stdout",
     "output_type": "stream",
     "text": [
      "The list is :  [3, 5, 7, 2, 8, 10, 11, 65, 72, 81, 99, 100, 150]\n",
      "The moving average for the list is : \n",
      " [  5.           4.66666667   5.66666667   6.66666667   9.66666667\n",
      "  28.66666667  49.33333333  72.66666667  84.          93.33333333\n",
      " 116.33333333]\n"
     ]
    }
   ],
   "source": [
    "\n",
    "#Write a function to find moving average in an array over a window:\n",
    "#Test it over [3, 5, 7, 2, 8, 10, 11, 65, 72, 81, 99, 100, 150] and window of 3.\n",
    "\n",
    "import numpy as np\n",
    "\n",
    "l = [3, 5, 7, 2, 8, 10, 11, 65, 72, 81, 99, 100, 150]\n",
    "print(\"The list is : \" ,l)\n",
    "\n",
    "def movingAvg(values, window):\n",
    "    sum2 = np.repeat(1, window)/window\n",
    "    avg2 = np.convolve(values, sum2,'valid')\n",
    "    return avg2\n",
    "\n",
    "print(\"The moving average for the list is : \\n\", movingAvg(l,3))"
   ]
  },
  {
   "cell_type": "code",
   "execution_count": null,
   "metadata": {},
   "outputs": [],
   "source": []
  }
 ],
 "metadata": {
  "kernelspec": {
   "display_name": "Python 3",
   "language": "python",
   "name": "python3"
  },
  "language_info": {
   "codemirror_mode": {
    "name": "ipython",
    "version": 3
   },
   "file_extension": ".py",
   "mimetype": "text/x-python",
   "name": "python",
   "nbconvert_exporter": "python",
   "pygments_lexer": "ipython3",
   "version": "3.6.5"
  }
 },
 "nbformat": 4,
 "nbformat_minor": 2
}
